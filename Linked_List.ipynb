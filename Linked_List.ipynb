{
  "nbformat": 4,
  "nbformat_minor": 0,
  "metadata": {
    "colab": {
      "name": "Linked List.ipynb",
      "provenance": [],
      "collapsed_sections": [],
      "authorship_tag": "ABX9TyNRNSRX9hDspPpkdkNa6OlW",
      "include_colab_link": true
    },
    "kernelspec": {
      "name": "python3",
      "display_name": "Python 3"
    }
  },
  "cells": [
    {
      "cell_type": "markdown",
      "metadata": {
        "id": "view-in-github",
        "colab_type": "text"
      },
      "source": [
        "<a href=\"https://colab.research.google.com/github/anuragbisht12/Datastructures/blob/master/Linked_List.ipynb\" target=\"_parent\"><img src=\"https://colab.research.google.com/assets/colab-badge.svg\" alt=\"Open In Colab\"/></a>"
      ]
    },
    {
      "cell_type": "code",
      "metadata": {
        "id": "11xKclLQbIMZ",
        "colab_type": "code",
        "outputId": "68c98e01-6919-4a86-b6d7-0966579eb7b8",
        "colab": {
          "base_uri": "https://localhost:8080/",
          "height": 34
        }
      },
      "source": [
        "#linked list\n",
        "class  Node:\n",
        "  def __init__(self,data):\n",
        "    self.data=data\n",
        "    self.next=None\n",
        "class LinkedList:\n",
        "  def __init__(self):\n",
        "    self.head=None\n",
        "  \n",
        "  def append(self,newnode):\n",
        "    if self.head is None:\n",
        "      self.head=newnode\n",
        "    else:\n",
        "      current=self.head\n",
        "      while current.next is not None:\n",
        "        current=current.next\n",
        "      current.next=newnode\n",
        "  def display(self):\n",
        "    current=self.head\n",
        "    while  current is not None:\n",
        "      print(current.data,end=' ')\n",
        "      current=current.next\n",
        "\n",
        "linkedlist1=LinkedList()\n",
        "\n",
        "li=[2,4,6,8,7,9,1]\n",
        "for i in li:\n",
        "  linkedlist1.append(Node(i))\n",
        "\n",
        "linkedlist1.display()\n"
      ],
      "execution_count": 0,
      "outputs": [
        {
          "output_type": "stream",
          "text": [
            "2 4 6 8 7 9 1 "
          ],
          "name": "stdout"
        }
      ]
    },
    {
      "cell_type": "code",
      "metadata": {
        "id": "I7anxMY1ljTY",
        "colab_type": "code",
        "colab": {}
      },
      "source": [
        ""
      ],
      "execution_count": 0,
      "outputs": []
    },
    {
      "cell_type": "code",
      "metadata": {
        "id": "OVoP10vleBn1",
        "colab_type": "code",
        "outputId": "6afba5f3-2c6a-4aed-f6f2-1df73076ac09",
        "colab": {
          "base_uri": "https://localhost:8080/",
          "height": 134
        }
      },
      "source": [
        "#Read a linked list in reverse\n",
        "class Node:\n",
        "    def __init__(self, data):\n",
        "       self.data = data\n",
        "       self.next = None\n",
        "\n",
        "class LinkedList:\n",
        "    def __init__(self):\n",
        "        self.head = None\n",
        " \n",
        "    def insert_at_beg(self, new_node):\n",
        "        if self.head is None:\n",
        "            self.head = new_node\n",
        "        else:\n",
        "            new_node.next = self.head\n",
        "            self.head = new_node\n",
        " \n",
        "    def display(self):\n",
        "        current = self.head\n",
        "        while current:\n",
        "            print(current.data, end = ' ')\n",
        "            current = current.next\n",
        "\n",
        "n=int(input('No of elements'))\n",
        "for i in range(n):\n",
        "    data = int(input('Enter data item: '))\n",
        "    node = Node(data)\n",
        "    linkedlist1.insert_at_beg(node)\n",
        "\n",
        "linkedlist1.display()"
      ],
      "execution_count": 0,
      "outputs": [
        {
          "output_type": "stream",
          "text": [
            "No of elements5\n",
            "Enter data item: 1\n",
            "Enter data item: 2\n",
            "Enter data item: 4\n",
            "Enter data item: 6\n",
            "Enter data item: 7\n",
            "7 6 4 2 1 "
          ],
          "name": "stdout"
        }
      ]
    },
    {
      "cell_type": "code",
      "metadata": {
        "id": "G6BwnSHGlmZy",
        "colab_type": "code",
        "outputId": "ed621599-ab45-4967-e471-5e5987c6315e",
        "colab": {
          "base_uri": "https://localhost:8080/",
          "height": 34
        }
      },
      "source": [
        "#search element in linked list\n",
        "class  Node:\n",
        "  def __init__(self,data):\n",
        "    self.data=data\n",
        "    self.next=None\n",
        "class LinkedList:\n",
        "  def __init__(self):\n",
        "    self.head=None\n",
        "  \n",
        "  def append(self,newnode):\n",
        "    if self.head is None:\n",
        "      self.head=newnode\n",
        "    else:\n",
        "      current=self.head\n",
        "      while current.next is not None:\n",
        "        current=current.next\n",
        "      current.next=newnode\n",
        "  def display(self):\n",
        "    current=self.head\n",
        "    while  current is not None:\n",
        "      print(current.data,end=' ')\n",
        "      current=current.next\n",
        "      \n",
        "  def display_rec(self):\n",
        "        self.display_helper(self.head)\n",
        "  def display_helper(self, current):\n",
        "        if current is None:\n",
        "            return\n",
        " \n",
        "        print(current.data, end = ' ')\n",
        "        self.display_helper(current.next)\n",
        "  def find(self,key):\n",
        "    if self.head is None:\n",
        "      return False\n",
        "    else:\n",
        "      current=self.head\n",
        "      while current is not None:\n",
        "        if current.data==key:\n",
        "          return True\n",
        "        else:\n",
        "          current=current.next\n",
        "    return False\n",
        "\n",
        "linkedlist1=LinkedList()\n",
        "\n",
        "li=[2,4,6,8,7,9,1]\n",
        "for i in li:\n",
        "  linkedlist1.append(Node(i))\n",
        "\n",
        "linkedlist1.display()\n",
        "\n",
        "\n",
        "linkedlist1.find(11)"
      ],
      "execution_count": 0,
      "outputs": [
        {
          "output_type": "stream",
          "text": [
            "2 4 6 8 7 9 1 "
          ],
          "name": "stdout"
        },
        {
          "output_type": "execute_result",
          "data": {
            "text/plain": [
              "False"
            ]
          },
          "metadata": {
            "tags": []
          },
          "execution_count": 9
        }
      ]
    },
    {
      "cell_type": "code",
      "metadata": {
        "id": "S9vuHcH0qT2H",
        "colab_type": "code",
        "outputId": "56166c48-ce8f-486f-fc41-f1cb8b5cb132",
        "colab": {
          "base_uri": "https://localhost:8080/",
          "height": 34
        }
      },
      "source": [
        "#display elements using recursion\n",
        "class  Node:\n",
        "  def __init__(self,data):\n",
        "    self.data=data\n",
        "    self.next=None\n",
        "class LinkedList:\n",
        "  def __init__(self):\n",
        "    self.head=None\n",
        "  \n",
        "  def append(self,newnode):\n",
        "    if self.head is None:\n",
        "      self.head=newnode\n",
        "    else:\n",
        "      current=self.head\n",
        "      while current.next is not None:\n",
        "        current=current.next\n",
        "      current.next=newnode\n",
        "       \n",
        "  def display_rec(self):\n",
        "        self.display_helper(self.head)\n",
        "  def display_helper(self, current):\n",
        "        if current is None:\n",
        "            return\n",
        " \n",
        "        print(current.data, end = ' ')\n",
        "        self.display_helper(current.next)\n",
        "  def find(self,key):\n",
        "    if self.head is None:\n",
        "      return False\n",
        "    else:\n",
        "      current=self.head\n",
        "      while current is not None:\n",
        "        if current.data==key:\n",
        "          return True\n",
        "        else:\n",
        "          current=current.next\n",
        "    return False\n",
        "\n",
        "linkedlist1=LinkedList()\n",
        "\n",
        "li=[2,4,6,8,7,9,1]\n",
        "for i in li:\n",
        "  linkedlist1.append(Node(i))\n",
        "\n",
        "linkedlist1.display_rec()\n"
      ],
      "execution_count": 0,
      "outputs": [
        {
          "output_type": "stream",
          "text": [
            "2 4 6 8 7 9 1 "
          ],
          "name": "stdout"
        }
      ]
    },
    {
      "cell_type": "code",
      "metadata": {
        "id": "3xASeQXPr4NR",
        "colab_type": "code",
        "outputId": "8061be55-7546-4b47-e877-c020b2fd08aa",
        "colab": {
          "base_uri": "https://localhost:8080/",
          "height": 34
        }
      },
      "source": [
        "#length of a linked list\n",
        "class  Node:\n",
        "  def __init__(self,data):\n",
        "    self.data=data\n",
        "    self.next=None\n",
        "class LinkedList:\n",
        "  def __init__(self):\n",
        "    self.head=None\n",
        "  \n",
        "  def append(self,newnode):\n",
        "    if self.head is None:\n",
        "      self.head=newnode\n",
        "    else:\n",
        "      current=self.head\n",
        "      while current.next is not None:\n",
        "        current=current.next\n",
        "      current.next=newnode\n",
        "       \n",
        "  def display_rec(self):\n",
        "        self.display_helper(self.head)\n",
        "  def display_helper(self, current):\n",
        "        if current is None:\n",
        "            return\n",
        " \n",
        "        print(current.data, end = ' ')\n",
        "        self.display_helper(current.next)\n",
        "\n",
        "  def length(self):\n",
        "        return self.length_helper(self.head)\n",
        " \n",
        "  def length_helper(self, current):\n",
        "      if current is None:\n",
        "          return 0\n",
        "      return 1 + self.length_helper(current.next)\n",
        "\n",
        "\n",
        "linkedlist1=LinkedList()\n",
        "\n",
        "li=[2,4,6,8,7,9,1]\n",
        "for i in li:\n",
        "  linkedlist1.append(Node(i))\n",
        "\n",
        "linkedlist1.display_rec()\n",
        "print(f'length: {linkedlist1.length()}')"
      ],
      "execution_count": 0,
      "outputs": [
        {
          "output_type": "stream",
          "text": [
            "2 4 6 8 7 9 1 length: 7\n"
          ],
          "name": "stdout"
        }
      ]
    },
    {
      "cell_type": "code",
      "metadata": {
        "id": "Yxqjc6BPthen",
        "colab_type": "code",
        "outputId": "6ad73541-3f3e-496e-e991-aec5299100a4",
        "colab": {
          "base_uri": "https://localhost:8080/",
          "height": 50
        }
      },
      "source": [
        "#count the number of occurrence of element\n",
        "class  Node:\n",
        "  def __init__(self,data):\n",
        "    self.data=data\n",
        "    self.next=None\n",
        "class LinkedList:\n",
        "  def __init__(self):\n",
        "    self.head=None\n",
        "  \n",
        "  def append(self,newnode):\n",
        "    if self.head is None:\n",
        "      self.head=newnode\n",
        "    else:\n",
        "      current=self.head\n",
        "      while current.next is not None:\n",
        "        current=current.next\n",
        "      current.next=newnode\n",
        "       \n",
        "  def display_rec(self):\n",
        "        self.display_helper(self.head)\n",
        "  def display_helper(self, current):\n",
        "        if current is None:\n",
        "            return\n",
        " \n",
        "        print(current.data, end = ' ')\n",
        "        self.display_helper(current.next)\n",
        "\n",
        "  def length(self):\n",
        "        return self.length_helper(self.head)\n",
        " \n",
        "  def length_helper(self, current):\n",
        "      if current is None:\n",
        "          return 0\n",
        "      return 1 + self.length_helper(current.next)\n",
        "  def count(self, key):\n",
        "        return self.count_helper(self.head, key)\n",
        " \n",
        "  def count_helper(self, current, key):\n",
        "      if current is None:\n",
        "          return 0\n",
        "\n",
        "      if current.data == key:\n",
        "          return 1 + self.count_helper(current.next, key)\n",
        "      else:\n",
        "          return self.count_helper(current.next, key)\n",
        "\n",
        "  \n",
        "\n",
        "linkedlist1=LinkedList()\n",
        "\n",
        "li=[2,4,6,8,7,9,1]\n",
        "for i in li:\n",
        "  linkedlist1.append(Node(i))\n",
        "\n",
        "linkedlist1.display_rec()\n",
        "print(f'length: {linkedlist1.length()}')\n",
        "key=9\n",
        "print(f'number of occurence of {key}: {linkedlist1.count(key)}')\n"
      ],
      "execution_count": 0,
      "outputs": [
        {
          "output_type": "stream",
          "text": [
            "2 4 6 8 7 9 1 length: 7\n",
            "number of occurence of 9: 1\n"
          ],
          "name": "stdout"
        }
      ]
    },
    {
      "cell_type": "code",
      "metadata": {
        "id": "yMj7cJBvv80I",
        "colab_type": "code",
        "outputId": "b25007b6-2a23-4ea4-f363-8abd7c3d8569",
        "colab": {
          "base_uri": "https://localhost:8080/",
          "height": 34
        }
      },
      "source": [
        "#Stack from linkedlist\n",
        "class Node:\n",
        "    def __init__(self, data):\n",
        "       self.data = data\n",
        "       self.next = None\n",
        " \n",
        "class Stack:\n",
        "    def __init__(self):\n",
        "        self.head = None\n",
        " \n",
        "    def push(self, data):\n",
        "        if self.head is None:\n",
        "            self.head = Node(data)\n",
        "        else:\n",
        "            new_node = Node(data)\n",
        "            new_node.next = self.head\n",
        "            self.head = new_node\n",
        " \n",
        "    def pop(self):\n",
        "        if self.head is None:\n",
        "            return None\n",
        "        else:\n",
        "            popped = self.head.data\n",
        "            self.head = self.head.next\n",
        "            return popped\n",
        "    def display_rec(self):\n",
        "      self.display_helper(self.head)\n",
        "    def display_helper(self, current):\n",
        "          if current is None:\n",
        "              return\n",
        "          print(current.data, end = ' ')\n",
        "          self.display_helper(current.next)\n",
        "\n",
        "linkedlist1=Stack()\n",
        "\n",
        "li=[2,4,6,8,7,9,1]\n",
        "for i in li:\n",
        "  linkedlist1.push(i)\n",
        "\n",
        "linkedlist1.display_rec()"
      ],
      "execution_count": 0,
      "outputs": [
        {
          "output_type": "stream",
          "text": [
            "1 9 7 8 6 4 2 "
          ],
          "name": "stdout"
        }
      ]
    },
    {
      "cell_type": "code",
      "metadata": {
        "id": "cdcE221Ny4d7",
        "colab_type": "code",
        "outputId": "054c19d0-c6ab-487d-8769-b42030cde332",
        "colab": {
          "base_uri": "https://localhost:8080/",
          "height": 34
        }
      },
      "source": [
        "#queue using linked list\n",
        "class Node:\n",
        "    def __init__(self, data):\n",
        "       self.data = data\n",
        "       self.next = None\n",
        " \n",
        "class Queue:\n",
        "    def __init__(self):\n",
        "        self.head = None\n",
        "        self.last = None\n",
        " \n",
        "    def enqueue(self, data):\n",
        "        if self.last is None:\n",
        "            self.head = Node(data)\n",
        "            self.last = self.head\n",
        "        else:\n",
        "            self.last.next = Node(data)\n",
        "            self.last = self.last.next\n",
        " \n",
        "    def dequeue(self):\n",
        "        if self.head is None:\n",
        "            return None\n",
        "        else:\n",
        "            to_return = self.head.data\n",
        "            self.head = self.head.next\n",
        "            return to_return\n",
        "    def display_rec(self):\n",
        "      self.display_helper(self.head)\n",
        "    def display_helper(self, current):\n",
        "          if current is None:\n",
        "              return\n",
        "          print(current.data, end = ' ')\n",
        "          self.display_helper(current.next)\n",
        "    \n",
        "q=Queue()\n",
        "\n",
        "li=[2,4,6,8,7,9,1]\n",
        "for i in li:\n",
        "  q.enqueue(i)\n",
        "\n",
        "q.display_rec()"
      ],
      "execution_count": 0,
      "outputs": [
        {
          "output_type": "stream",
          "text": [
            "2 4 6 8 7 9 1 "
          ],
          "name": "stdout"
        }
      ]
    }
  ]
}