{
  "nbformat": 4,
  "nbformat_minor": 0,
  "metadata": {
    "colab": {
      "name": "MergeLinkedList.ipynb",
      "provenance": [],
      "collapsed_sections": []
    },
    "kernelspec": {
      "name": "python3",
      "display_name": "Python 3"
    }
  },
  "cells": [
    {
      "cell_type": "code",
      "metadata": {
        "id": "NaxVypU7Y40c",
        "colab_type": "code",
        "colab": {}
      },
      "source": [
        "# This is an input class. Do not edit.\n",
        "class LinkedList:\n",
        "    def __init__(self, value):\n",
        "        self.value = value\n",
        "        self.next = None\n",
        "\n",
        "#O(n+m) time | o(1) space\n",
        "def mergeLinkedLists(headOne, headTwo):\n",
        "    p1=headOne\n",
        "\tp2=headTwo\n",
        "\tp1Prev=None\n",
        "    while p1 is not None and p2 is not None:\n",
        "\t\tif p1.value <p2.value:\n",
        "\t\t\tp1Prev=p1\n",
        "\t\t\tp1=p1.next\n",
        "\t\telse:\n",
        "\t\t\tif p1Prev is not None:\n",
        "\t\t\t\tp1Prev.next=p2\n",
        "\t\t\tp1Prev=p2\n",
        "\t\t\tp2=p2.next\n",
        "\t\t\tp1Prev.next=p1\n",
        "\tif p1 is None:\n",
        "\t\tp1Prev.next =p2\n",
        "\treturn headOne if headOne.value<headTwo.value else headTwo\n"
      ],
      "execution_count": 0,
      "outputs": []
    }
  ]
}