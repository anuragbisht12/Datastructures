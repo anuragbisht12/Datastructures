{
  "nbformat": 4,
  "nbformat_minor": 0,
  "metadata": {
    "colab": {
      "name": "Breadth First Search_DifferentWays.ipynb",
      "provenance": [],
      "collapsed_sections": [],
      "authorship_tag": "ABX9TyODLlWHDeVBH8NH8PLj344T",
      "include_colab_link": true
    },
    "kernelspec": {
      "name": "python3",
      "display_name": "Python 3"
    }
  },
  "cells": [
    {
      "cell_type": "markdown",
      "metadata": {
        "id": "view-in-github",
        "colab_type": "text"
      },
      "source": [
        "<a href=\"https://colab.research.google.com/github/anuragbisht12/Datastructures/blob/master/Breadth_First_Search_DifferentWays.ipynb\" target=\"_parent\"><img src=\"https://colab.research.google.com/assets/colab-badge.svg\" alt=\"Open In Colab\"/></a>"
      ]
    },
    {
      "cell_type": "code",
      "metadata": {
        "id": "4_xskyLpQi2J",
        "colab_type": "code",
        "colab": {}
      },
      "source": [
        "# method 1\n",
        "# O(v+e) time | O(v) space\n",
        "class Node:\n",
        "  def __init__(self,name):\n",
        "    self.children=[]\n",
        "    self.name=name\n",
        "  \n",
        "  def addChild(self,name):\n",
        "    self.children.append(Node(name))\n",
        "    return self\n",
        "  \n",
        "  def BreadthFirstSearch(self,array):\n",
        "    queue=[self]\n",
        "    while len(queue)>0:\n",
        "      current=queue.pop(0)\n",
        "      array.append(current.name)\n",
        "      for child in current.children:\n",
        "        queue.apppend(child)\n",
        "\n",
        "    return array\n"
      ],
      "execution_count": null,
      "outputs": []
    },
    {
      "cell_type": "code",
      "metadata": {
        "id": "nixJ9-9gSp5N",
        "colab_type": "code",
        "colab": {}
      },
      "source": [
        "# method 2\n",
        "# graph: List[List[int]]\n",
        "from collections import deque\n",
        "def bfs(graph,s):\n",
        "  visited=set()\n",
        "  queue=deque()\n",
        "  visited.add(s)\n",
        "  queue.appendleft(s)\n",
        "  while queue:\n",
        "    currentIdx=queue.pop()\n",
        "    print(currentIdx)\n",
        "\n",
        "    for v in graph[currentIdx]:\n",
        "      if v not in visited:\n",
        "        visited.add(v)\n",
        "        queue.appendleft(v)\n",
        "\n"
      ],
      "execution_count": null,
      "outputs": []
    }
  ]
}