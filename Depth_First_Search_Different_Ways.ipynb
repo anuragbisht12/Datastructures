{
  "nbformat": 4,
  "nbformat_minor": 0,
  "metadata": {
    "colab": {
      "name": "Depth First Search Different Ways.ipynb",
      "provenance": [],
      "collapsed_sections": [],
      "authorship_tag": "ABX9TyPJVAh8DiSJ4ryesTqynWvA",
      "include_colab_link": true
    },
    "kernelspec": {
      "name": "python3",
      "display_name": "Python 3"
    }
  },
  "cells": [
    {
      "cell_type": "markdown",
      "metadata": {
        "id": "view-in-github",
        "colab_type": "text"
      },
      "source": [
        "<a href=\"https://colab.research.google.com/github/anuragbisht12/Datastructures/blob/master/Depth_First_Search_Different_Ways.ipynb\" target=\"_parent\"><img src=\"https://colab.research.google.com/assets/colab-badge.svg\" alt=\"Open In Colab\"/></a>"
      ]
    },
    {
      "cell_type": "code",
      "metadata": {
        "id": "xv3V39rVNd3k",
        "colab_type": "code",
        "colab": {}
      },
      "source": [
        "# First Method\n",
        "\n",
        "def dfs(graph,s):\n",
        "  visited=set()\n",
        "\n",
        "  def rec(currentIndex):\n",
        "    print(currentIdx)\n",
        "    visited.add(currentIdx)\n",
        "    for v in graph[currentIdx]:\n",
        "      if v not in visited:\n",
        "        recur[v]\n",
        "  \n",
        "  recur[s]\n",
        "\n",
        "\n"
      ],
      "execution_count": null,
      "outputs": []
    },
    {
      "cell_type": "code",
      "metadata": {
        "id": "Yfrc1B2HPCOo",
        "colab_type": "code",
        "colab": {}
      },
      "source": [
        "# Method 2\n",
        "\n",
        "class Node:\n",
        "  def __init__(self,name):\n",
        "    self.name=name\n",
        "    self.children=[]\n",
        "\n",
        "  def addChild(self,name):\n",
        "    self.children.append(Node(name))\n",
        "    return self\n",
        "  \n",
        "  def depthFirstSearch(self,array):\n",
        "    array.append(self.name)\n",
        "    for child in self.children:\n",
        "      depthFirstSearch(child)\n",
        "    return array\n"
      ],
      "execution_count": null,
      "outputs": []
    }
  ]
}