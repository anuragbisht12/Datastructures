{
  "nbformat": 4,
  "nbformat_minor": 0,
  "metadata": {
    "colab": {
      "name": "BreadthFirstSearch.ipynb",
      "provenance": [],
      "collapsed_sections": []
    },
    "kernelspec": {
      "name": "python3",
      "display_name": "Python 3"
    }
  },
  "cells": [
    {
      "cell_type": "code",
      "metadata": {
        "id": "4uncaEScu0IB",
        "colab_type": "code",
        "colab": {}
      },
      "source": [
        "# Do not edit the class below except\n",
        "# for the breadthFirstSearch method.\n",
        "# Feel free to add new properties\n",
        "# and methods to the class.\n",
        "class Node:\n",
        "    def __init__(self, name):\n",
        "        self.children = []\n",
        "        self.name = name\n",
        "\n",
        "    def addChild(self, name):\n",
        "        self.children.append(Node(name))\n",
        "        return self\n",
        "#O(v+e) time | O(v) space\n",
        "    def breadthFirstSearch(self, array):\n",
        "        queue =[self]\n",
        "\t\twhile len(queue)>0:\n",
        "\t\t\tcurrent = queue.pop(0)\n",
        "\t\t\tarray.append(current.name)\n",
        "\t\t\tfor child in current.children:\n",
        "\t\t\t\tqueue.append(child)\n",
        "\t\treturn array\n"
      ],
      "execution_count": 0,
      "outputs": []
    }
  ]
}