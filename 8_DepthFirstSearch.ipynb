{
  "nbformat": 4,
  "nbformat_minor": 0,
  "metadata": {
    "colab": {
      "name": "Copy of DepthFirstSearch.ipynb",
      "provenance": []
    },
    "kernelspec": {
      "name": "python3",
      "display_name": "Python 3"
    }
  },
  "cells": [
    {
      "cell_type": "code",
      "metadata": {
        "id": "OleEHTCIkeWJ",
        "colab_type": "code",
        "colab": {}
      },
      "source": [
        "# Do not edit the class below except\n",
        "# for the depthFirstSearch method.\n",
        "# Feel free to add new properties\n",
        "# and methods to the class.\n",
        "class Node:\n",
        "    def __init__(self, name):\n",
        "        self.children = []\n",
        "        self.name = name\n",
        "\n",
        "    def addChild(self, name):\n",
        "        self.children.append(Node(name))\n",
        "        return self\n",
        "\n",
        "    def depthFirstSearch(self, array):\n",
        "\t\tarray.append(self.name)\n",
        "        for val in self.children:\n",
        "\t\t\tval.depthFirstSearch(array)\n",
        "\t\treturn array\n"
      ],
      "execution_count": 0,
      "outputs": []
    }
  ]
}