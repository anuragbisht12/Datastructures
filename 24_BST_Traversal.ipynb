{
  "nbformat": 4,
  "nbformat_minor": 0,
  "metadata": {
    "colab": {
      "name": "BST_Traversal.ipynb",
      "provenance": [],
      "collapsed_sections": []
    },
    "kernelspec": {
      "name": "python3",
      "display_name": "Python 3"
    }
  },
  "cells": [
    {
      "cell_type": "code",
      "metadata": {
        "id": "Z4RqHsrRoaHo",
        "colab_type": "code",
        "colab": {}
      },
      "source": [
        "#O(n) time | O(n) space\n",
        "def inOrderTraverse(tree, array):\n",
        "    if tree is not None:\n",
        "\t\tinOrderTraverse(tree.left,array)\n",
        "\t\tarray.append(tree.value)\n",
        "\t\tinOrderTraverse(tree.right,array)\n",
        "    return array\n",
        "\n",
        "\n",
        "def preOrderTraverse(tree, array):\n",
        "    if tree is not None:\n",
        "\t\tarray.append(tree.value)\n",
        "\t\tpreOrderTraverse(tree.left,array)\t\n",
        "\t\tpreOrderTraverse(tree.right,array)\n",
        "    return array\n",
        "\n",
        "\n",
        "def postOrderTraverse(tree, array):\n",
        "    if tree is not None:\n",
        "\t\tpostOrderTraverse(tree.left,array)\t\n",
        "\t\tpostOrderTraverse(tree.right,array)\n",
        "\t\tarray.append(tree.value)\n",
        "    return array"
      ],
      "execution_count": 0,
      "outputs": []
    }
  ]
}