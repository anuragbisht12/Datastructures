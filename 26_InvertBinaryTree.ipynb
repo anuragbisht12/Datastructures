{
  "nbformat": 4,
  "nbformat_minor": 0,
  "metadata": {
    "colab": {
      "name": "InvertBinaryTree.ipynb",
      "provenance": [],
      "collapsed_sections": []
    },
    "kernelspec": {
      "name": "python3",
      "display_name": "Python 3"
    }
  },
  "cells": [
    {
      "cell_type": "code",
      "metadata": {
        "id": "U0LLhEJEz9xl",
        "colab_type": "code",
        "colab": {}
      },
      "source": [
        "#O(n) time | O(d) space\n",
        "def invertBinaryTree(tree):\n",
        "    if tree is None:\n",
        "\t\treturn \n",
        "\tswapLeftAndRight(tree)\n",
        "\tinvertBinaryTree(tree.left)\n",
        "\tinvertBinaryTree(tree.right)\n",
        "    \n",
        "def swapLeftAndRight(tree):\n",
        "\ttree.left,tree.right=tree.right,tree.left\n"
      ],
      "execution_count": 0,
      "outputs": []
    },
    {
      "cell_type": "code",
      "metadata": {
        "id": "g_1TSJxe1GlA",
        "colab_type": "code",
        "colab": {}
      },
      "source": [
        "#O(n) time | O(n) space\n",
        "def invertBinaryTree(tree):\n",
        "    queue =[tree]\n",
        "\twhile len(queue):\n",
        "\t\tcurrent = queue.pop(0)\n",
        "\t\tif current is None:\n",
        "\t\t\tcontinue\n",
        "\t\tswapLeftAndRight(current)\n",
        "\t\tqueue.append(current.left)\n",
        "\t\tqueue.append(current.right)\n",
        "\t\t\n",
        "def swapLeftAndRight(tree):\n",
        "\ttree.left,tree.right=tree.right,tree.left"
      ],
      "execution_count": 0,
      "outputs": []
    }
  ]
}