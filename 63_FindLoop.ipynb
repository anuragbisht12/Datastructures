{
  "nbformat": 4,
  "nbformat_minor": 0,
  "metadata": {
    "colab": {
      "name": "FindLoop.ipynb",
      "provenance": [],
      "collapsed_sections": []
    },
    "kernelspec": {
      "name": "python3",
      "display_name": "Python 3"
    }
  },
  "cells": [
    {
      "cell_type": "code",
      "metadata": {
        "id": "kARQTMjvCVF4",
        "colab_type": "code",
        "colab": {}
      },
      "source": [
        "# This is an input class. Do not edit.\n",
        "class LinkedList:\n",
        "    def __init__(self, value):\n",
        "        self.value = value\n",
        "        self.next = None\n",
        "\n",
        "#O(n) time | O(1) space\n",
        "\n",
        "def findLoop(head):\n",
        "    first = head.next\n",
        "\tsecond = head.next.next\n",
        "\twhile first != second:\n",
        "\t\tfirst = first.next\n",
        "\t\tsecond = second.next.next\n",
        "\tfirst = head\n",
        "\n",
        "  # find the node with origin of loop\n",
        "\twhile first!=second:\n",
        "\t\tfirst=first.next\n",
        "\t\tsecond=second.next\n",
        "\treturn first\n",
        "\t\n",
        "\n"
      ],
      "execution_count": 0,
      "outputs": []
    }
  ]
}