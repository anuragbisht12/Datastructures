{
  "nbformat": 4,
  "nbformat_minor": 0,
  "metadata": {
    "colab": {
      "name": "LevelOrderTraversalTree.ipynb",
      "provenance": [],
      "collapsed_sections": [],
      "authorship_tag": "ABX9TyPvt/GTyyU5ZLqzMTxjtSZJ",
      "include_colab_link": true
    },
    "kernelspec": {
      "name": "python3",
      "display_name": "Python 3"
    }
  },
  "cells": [
    {
      "cell_type": "markdown",
      "metadata": {
        "id": "view-in-github",
        "colab_type": "text"
      },
      "source": [
        "<a href=\"https://colab.research.google.com/github/anuragbisht12/Datastructures/blob/master/LevelOrderTraversalTree.ipynb\" target=\"_parent\"><img src=\"https://colab.research.google.com/assets/colab-badge.svg\" alt=\"Open In Colab\"/></a>"
      ]
    },
    {
      "cell_type": "code",
      "metadata": {
        "id": "TYbtlARX4Ld2",
        "colab_type": "code",
        "colab": {}
      },
      "source": [
        "class Node:\n",
        "  def __init__(self,value):\n",
        "    self.data=value\n",
        "    self.left=None\n",
        "    self.right=None\n",
        "    \n",
        "def levelOrderTraversal():\n",
        "  if root is None:\n",
        "    return \n",
        "  queue=[]\n",
        "  queue.append(root)\n",
        "  while queue is not None:\n",
        "    node=queue.pop(0)\n",
        "    print(node.data)\n",
        "    if node.left != None:\n",
        "      queue.append(node.left)\n",
        "    if node.right != None:\n",
        "      queue.append(node.right)"
      ],
      "execution_count": null,
      "outputs": []
    }
  ]
}