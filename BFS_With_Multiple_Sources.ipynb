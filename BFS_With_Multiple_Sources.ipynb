{
  "nbformat": 4,
  "nbformat_minor": 0,
  "metadata": {
    "colab": {
      "name": "BFS_With_Multiple_Sources.ipynb",
      "provenance": [],
      "collapsed_sections": [],
      "authorship_tag": "ABX9TyNmwCu/UeuY/ekpzWvjhCBs",
      "include_colab_link": true
    },
    "kernelspec": {
      "name": "python3",
      "display_name": "Python 3"
    }
  },
  "cells": [
    {
      "cell_type": "markdown",
      "metadata": {
        "id": "view-in-github",
        "colab_type": "text"
      },
      "source": [
        "<a href=\"https://colab.research.google.com/github/anuragbisht12/Datastructures/blob/master/BFS_With_Multiple_Sources.ipynb\" target=\"_parent\"><img src=\"https://colab.research.google.com/assets/colab-badge.svg\" alt=\"Open In Colab\"/></a>"
      ]
    },
    {
      "cell_type": "markdown",
      "metadata": {
        "id": "vWciVG5D7g4D",
        "colab_type": "text"
      },
      "source": [
        "In this question, we use a BFS to model the process. The grid is considered as a graph (an orange cell is a vertex and there are edges to the cell’s neighbours). Starting BFS from all rotten oranges with ‘depth’ 0, and then travel to their neighbours which have 1 more depth. At the end, if we still have unvisited oranges, return -1 as this is impossible to rotten all oranges.\n"
      ]
    },
    {
      "cell_type": "code",
      "metadata": {
        "id": "AyRU7_Go_9MJ",
        "colab_type": "code",
        "colab": {}
      },
      "source": [
        "from collections import deque\n",
        "class Solution(object):\n",
        "\tdef orangeRotting(self,grid):\n",
        "\t\t\"\"\"\n",
        "\t\t:type grid: List[List[int]]\n",
        "        :rtype: int\n",
        "\t\t\"\"\" \n",
        "\n",
        "\t\t# corner cases\n",
        "\t\tif not grid or  not grid[0]:\n",
        "\t\t\treturn 0\n",
        "\t\tn=len(grid)\n",
        "\t\tm=len(grid[0])\n",
        "\t\tqueue=deque()\n",
        "\t\tvisited=set()\n",
        "\n",
        "\t\t# init multiple starting vertices\n",
        "\t\tfor i in range(n):\n",
        "\t\t\tfor j in range(m):\n",
        "\t\t\t\tif grid[i][j] == 2:\n",
        "\t\t\t\t\t# start with depth = 0\n",
        "\t\t\t\t\tqueue.appendleft((i, j, 0))\n",
        "\t\t\t\t\tvisited.add((i, j))\n",
        "\n",
        "\t\t# BFS\n",
        "\t\td=0\n",
        "\t\twhile queue:\n",
        "\t\t\tr,c,d=queue.pop()\n",
        "\t\t\tfor i, j in [[r + 1, c], [r, c + 1], [r - 1, c], [r, c - 1]]:\n",
        "\t\t\t\t# valid neighbours\n",
        "                if 0 <= i < n and 0 <= j < m:\n",
        "                    if grid[i][j] == 1 and (i, j) not in visited:\n",
        "                        queue.appendleft((i, j, d + 1))\n",
        "                        visited.add((i, j))\n",
        "\t\t\n",
        "\t\t# check if there are still fresh oranges\n",
        "\t\tfor i in range(n):\n",
        "\t\t\tfor j in range(m):\n",
        "\t\t\t\tif grid[i][j] == 1 and (i, j) not in visited:\n",
        "                    return -1\n",
        "\n",
        "\t\treturn d"
      ],
      "execution_count": null,
      "outputs": []
    }
  ]
}