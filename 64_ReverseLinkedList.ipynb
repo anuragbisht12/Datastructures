{
  "nbformat": 4,
  "nbformat_minor": 0,
  "metadata": {
    "colab": {
      "name": "ReverseLinkedList.ipynb",
      "provenance": [],
      "collapsed_sections": []
    },
    "kernelspec": {
      "name": "python3",
      "display_name": "Python 3"
    }
  },
  "cells": [
    {
      "cell_type": "code",
      "metadata": {
        "id": "stQI4Pi5J653",
        "colab_type": "code",
        "colab": {}
      },
      "source": [
        "#O(n) time | O(n) space\n",
        "def reverseLinkedList(head):\n",
        "    p1,p2=None,head\n",
        "\twhile p2 is not None:\n",
        "\t\tp3=p2.next\n",
        "\t\tp2.next=p1\n",
        "\t\tp1=p2\n",
        "\t\tp2=p3\n",
        "\treturn p1"
      ],
      "execution_count": 0,
      "outputs": []
    }
  ]
}