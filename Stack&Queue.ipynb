{
  "nbformat": 4,
  "nbformat_minor": 0,
  "metadata": {
    "colab": {
      "name": "Stack&Queue.ipynb",
      "provenance": [],
      "collapsed_sections": [],
      "authorship_tag": "ABX9TyPXFO7XAOWiKIoGFwkt8lH+",
      "include_colab_link": true
    },
    "kernelspec": {
      "name": "python3",
      "display_name": "Python 3"
    }
  },
  "cells": [
    {
      "cell_type": "markdown",
      "metadata": {
        "id": "view-in-github",
        "colab_type": "text"
      },
      "source": [
        "<a href=\"https://colab.research.google.com/github/anuragbisht12/Datastructures/blob/master/Stack%26Queue.ipynb\" target=\"_parent\"><img src=\"https://colab.research.google.com/assets/colab-badge.svg\" alt=\"Open In Colab\"/></a>"
      ]
    },
    {
      "cell_type": "code",
      "metadata": {
        "id": "6i8F7DpoxoFH",
        "colab_type": "code",
        "outputId": "d5e6f807-62f7-4b37-9691-63ef45028c7f",
        "colab": {
          "base_uri": "https://localhost:8080/",
          "height": 50
        }
      },
      "source": [
        "#stack\n",
        "class Stack:\n",
        "  def __init__(self):\n",
        "    self.items=[]\n",
        "  def isempty(self):\n",
        "    print(self.items==[])\n",
        "  def push(self,data):\n",
        "    self.items.append(data)\n",
        "  def pop(self):\n",
        "    self.items.pop()\n",
        "  def show(self):\n",
        "    print(self.items)\n",
        "\n",
        "\n",
        "stack1=Stack()\n",
        "stack1.isempty()\n",
        "stack1.push(2)\n",
        "stack1.push(5)\n",
        "stack1.pop()\n",
        "stack1.push(9)\n",
        "stack1.show()\n",
        "\n",
        "\n"
      ],
      "execution_count": 0,
      "outputs": [
        {
          "output_type": "stream",
          "text": [
            "True\n",
            "[2, 9]\n"
          ],
          "name": "stdout"
        }
      ]
    },
    {
      "cell_type": "code",
      "metadata": {
        "id": "-Xa3SfjLzfLV",
        "colab_type": "code",
        "outputId": "daa5553b-ab5c-4202-f3cd-8a540ac99f1d",
        "colab": {
          "base_uri": "https://localhost:8080/",
          "height": 50
        }
      },
      "source": [
        "#reverse the stack\n",
        "class Stack:\n",
        "  def __init__(self):\n",
        "    self.items=[]\n",
        "  def isempty(self):\n",
        "    return  self.items==[]\n",
        "  def push(self,data):\n",
        "    self.items.append(data)\n",
        "  def pop(self):\n",
        "    return self.items.pop()\n",
        "  def show(self):\n",
        "    print(self.items)\n",
        "\n",
        "def reverse(stack):\n",
        "  items = []\n",
        "  while not stack.isempty():\n",
        "    items.append(stack.pop())\n",
        "  for item in items:\n",
        "    stack.push(item)\n",
        "\n",
        "\n",
        "stack1=Stack()\n",
        "stack1.isempty()\n",
        "stack1.push(2)\n",
        "stack1.push(5)\n",
        "# print(stack1.pop())\n",
        "stack1.push(9)\n",
        "stack1.show()\n",
        "reverse(stack1)\n",
        "stack1.show()\n"
      ],
      "execution_count": 0,
      "outputs": [
        {
          "output_type": "stream",
          "text": [
            "[2, 5, 9]\n",
            "[9, 5, 2]\n"
          ],
          "name": "stdout"
        }
      ]
    },
    {
      "cell_type": "code",
      "metadata": {
        "id": "fAkfybll68mV",
        "colab_type": "code",
        "outputId": "5c48002f-b3fe-43fe-c20e-531c4d758b3e",
        "colab": {
          "base_uri": "https://localhost:8080/",
          "height": 118
        }
      },
      "source": [
        "#using recusion reverse a stack\n",
        "def reverse(orig, reversel=None):\n",
        "    if not reversel:\n",
        "        reversel = []\n",
        "    reversel.append(orig.pop())\n",
        "    print(reversel)\n",
        "    if orig:\n",
        "        reverse(orig, reversel)\n",
        "    return reversel\n",
        "\n",
        "stack = [1, 2, 3, 4, 5]\n",
        "stack = reverse(stack)\n",
        "print(stack)"
      ],
      "execution_count": 0,
      "outputs": [
        {
          "output_type": "stream",
          "text": [
            "[5]\n",
            "[5, 4]\n",
            "[5, 4, 3]\n",
            "[5, 4, 3, 2]\n",
            "[5, 4, 3, 2, 1]\n",
            "[5, 4, 3, 2, 1]\n"
          ],
          "name": "stdout"
        }
      ]
    },
    {
      "cell_type": "code",
      "metadata": {
        "id": "fLvnPUjC-XpJ",
        "colab_type": "code",
        "outputId": "2c9222c0-c5f0-4fc7-b46e-c7a5c1dc6290",
        "colab": {
          "base_uri": "https://localhost:8080/",
          "height": 34
        }
      },
      "source": [
        "#check for correct parenthesis\n",
        "class Stack:\n",
        "  def __init__(self):\n",
        "    self.items=[]\n",
        "  def isempty(self):\n",
        "    return  self.items==[]\n",
        "  def push(self,data):\n",
        "    self.items.append(data)\n",
        "  def pop(self):\n",
        "    return self.items.pop()\n",
        "  def show(self):\n",
        "    print(self.items)\n",
        "\n",
        "\n",
        "def check(input):\n",
        "  s=Stack()\n",
        "  for c in input:\n",
        "\n",
        "    if c=='(':\n",
        "      s.push(c)\n",
        "    elif c==')':\n",
        "      if s.isempty():\n",
        "        return False\n",
        "      s.pop()\n",
        "  if s.isempty:\n",
        "    return True\n",
        "  else:\n",
        "    return False\n",
        "\n",
        "\n",
        "\n",
        "\n",
        "input=\"(1+2(3*4)*5)\"\n",
        "\n",
        "check(input)\n",
        "\n",
        "\n"
      ],
      "execution_count": 0,
      "outputs": [
        {
          "output_type": "execute_result",
          "data": {
            "text/plain": [
              "True"
            ]
          },
          "metadata": {
            "tags": []
          },
          "execution_count": 35
        }
      ]
    },
    {
      "cell_type": "code",
      "metadata": {
        "id": "OwgY-gf8CHjH",
        "colab_type": "code",
        "outputId": "68577ef3-513c-4260-dfd9-646bf208f83a",
        "colab": {
          "base_uri": "https://localhost:8080/",
          "height": 34
        }
      },
      "source": [
        "#queue\n",
        "class Queue:\n",
        "  def __init__(self):\n",
        "    self.items=[]\n",
        "  def isempty(self):\n",
        "    return  self.items==[]\n",
        "  def enqueue(self,data):\n",
        "    self.items.append(data)\n",
        "  def dequeue(self):\n",
        "    return self.items.pop(0)\n",
        "  def show(self):\n",
        "    print(self.items)\n",
        "\n",
        "\n",
        "q=Queue()\n",
        "q.enqueue(2)\n",
        "q.enqueue(5)\n",
        "q.enqueue(9)\n",
        "\n",
        "q.dequeue()\n",
        "q.show()\n",
        "\n"
      ],
      "execution_count": 0,
      "outputs": [
        {
          "output_type": "stream",
          "text": [
            "[5, 9]\n"
          ],
          "name": "stdout"
        }
      ]
    },
    {
      "cell_type": "code",
      "metadata": {
        "id": "jqrrsGD5DAKg",
        "colab_type": "code",
        "outputId": "0d91bd4d-ed3b-4185-ddea-9ef0625f7002",
        "colab": {
          "base_uri": "https://localhost:8080/",
          "height": 50
        }
      },
      "source": [
        "#double ended queue\n",
        "class Dequeue:\n",
        "  def __init__(self):\n",
        "    self.items=[]\n",
        "  def isempty(self):\n",
        "    return  self.items==[]\n",
        "  def enqueue(self,data):\n",
        "    self.items.append(data)\n",
        "  def enqueue_left(self,data):\n",
        "    self.items.insert(0,data)\n",
        "  def dequeue(self):\n",
        "    return self.items.pop(0)\n",
        "  def dequeue_right(self):\n",
        "    return self.items.pop()\n",
        "  def show(self):\n",
        "    print(self.items)\n",
        "\n",
        "q=Dequeue()\n",
        "q.enqueue(2)\n",
        "q.enqueue(5)\n",
        "q.enqueue(9)\n",
        "q.show()\n",
        "q.enqueue_left(1)\n",
        "q.dequeue_right()\n",
        "q.show()\n"
      ],
      "execution_count": 0,
      "outputs": [
        {
          "output_type": "stream",
          "text": [
            "[2, 5, 9]\n",
            "[1, 2, 5]\n"
          ],
          "name": "stdout"
        }
      ]
    },
    {
      "cell_type": "code",
      "metadata": {
        "id": "9xIrx2EJFO4C",
        "colab_type": "code",
        "outputId": "649f0fea-2533-4922-9be3-ed16b8fd894b",
        "colab": {
          "base_uri": "https://localhost:8080/",
          "height": 50
        }
      },
      "source": [
        "#queue implementation using stack\n",
        "class Queue:\n",
        "    def __init__(self):\n",
        "        self.inbox = Stack()\n",
        "        self.outbox = Stack()\n",
        " \n",
        "    def is_empty(self):\n",
        "        return (self.inbox.is_empty() and self.outbox.is_empty())\n",
        " \n",
        "    def enqueue(self, data):\n",
        "        self.inbox.push(data)\n",
        " \n",
        "    def dequeue(self):\n",
        "        if self.outbox.is_empty():\n",
        "            while not self.inbox.is_empty():\n",
        "                popped = self.inbox.pop()\n",
        "                self.outbox.push(popped)\n",
        "        return self.outbox.pop()\n",
        "\n",
        "    def show(self):\n",
        "      print(self.outbox.show()) \n",
        " \n",
        "class Stack:\n",
        "    def __init__(self):\n",
        "        self.items = []\n",
        " \n",
        "    def is_empty(self):\n",
        "        return self.items == []\n",
        " \n",
        "    def push(self, data):\n",
        "        self.items.append(data)\n",
        " \n",
        "    def pop(self):\n",
        "        return self.items.pop()\n",
        "\n",
        "    def show(self):\n",
        "      print(self.items)\n",
        "\n",
        "\n",
        "q=Queue()\n",
        "q.enqueue(2)\n",
        "q.enqueue(5)\n",
        "q.enqueue(9)\n",
        "\n",
        "q.dequeue()\n",
        "q.show()"
      ],
      "execution_count": 0,
      "outputs": [
        {
          "output_type": "stream",
          "text": [
            "[9, 5]\n",
            "None\n"
          ],
          "name": "stdout"
        }
      ]
    }
  ]
}