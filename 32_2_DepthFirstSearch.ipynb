{
  "nbformat": 4,
  "nbformat_minor": 0,
  "metadata": {
    "colab": {
      "name": "DepthFirstSearch.ipynb",
      "provenance": [],
      "collapsed_sections": []
    },
    "kernelspec": {
      "name": "python3",
      "display_name": "Python 3"
    }
  },
  "cells": [
    {
      "cell_type": "code",
      "metadata": {
        "id": "atyr_bWQ2c2i",
        "colab_type": "code",
        "colab": {}
      },
      "source": [
        "# Do not edit the class below except\n",
        "# for the DepthFirstSearch method.\n",
        "# Feel free to add new properties\n",
        "# and methods to the class.\n",
        "class Node:\n",
        "    def __init__(self, name):\n",
        "        self.children = []\n",
        "        self.name = name\n",
        "\n",
        "    def addChild(self, name):\n",
        "        self.children.append(Node(name))\n",
        "        return self\n",
        "#O(v+e) time | O(v) space\n",
        "    def depthFirstSearch(self, array):\n",
        "        stack =[self]\n",
        "\t\twhile len(queue)>0:\n",
        "\t\t\tcurrent = stack.pop()\n",
        "\t\t\tarray.append(current.name)\n",
        "\t\t\tfor child in current.children:\n",
        "\t\t\t\tstack.append(child)\n",
        "\t\treturn array"
      ],
      "execution_count": 0,
      "outputs": []
    }
  ]
}