{
  "nbformat": 4,
  "nbformat_minor": 0,
  "metadata": {
    "colab": {
      "name": "DetectCycleinGraph.ipynb",
      "provenance": [],
      "collapsed_sections": [],
      "authorship_tag": "ABX9TyPmddEDVAcn19hZoh/mmXcG",
      "include_colab_link": true
    },
    "kernelspec": {
      "name": "python3",
      "display_name": "Python 3"
    }
  },
  "cells": [
    {
      "cell_type": "markdown",
      "metadata": {
        "id": "view-in-github",
        "colab_type": "text"
      },
      "source": [
        "<a href=\"https://colab.research.google.com/github/anuragbisht12/Datastructures/blob/master/DetectCycleinGraph.ipynb\" target=\"_parent\"><img src=\"https://colab.research.google.com/assets/colab-badge.svg\" alt=\"Open In Colab\"/></a>"
      ]
    },
    {
      "cell_type": "code",
      "metadata": {
        "id": "UYRm907sycpX",
        "colab_type": "code",
        "colab": {}
      },
      "source": [
        "class Node:\n",
        "  def __init__(self,name):\n",
        "    self.children=[]\n",
        "    self.name=name\n",
        "    self.isVisited=False\n",
        "  \n",
        "  def addChild(self,name):\n",
        "    self.children.append(Node(name))\n",
        "    return self\n",
        "\n",
        "  def detectCycle(self,)"
      ],
      "execution_count": null,
      "outputs": []
    },
    {
      "cell_type": "code",
      "metadata": {
        "id": "kyEWnSZR0PhL",
        "colab_type": "code",
        "colab": {}
      },
      "source": [
        "# For every vertex ‘v’, if there is an adjacent ‘u’ such that u is already\n",
        "#  visited and u is not a parent of v, then there is a cycle in the graph.\n",
        "# Input (graph 1): graph = [[1,2], [0,2,4], [0,1,3], [2], [1]]\n",
        "# Output: True\n",
        "def isCyclicUnidirectedGraph(graph):\n",
        "  visited=set()\n",
        "\n",
        "  def isCyclicRecursion(currentVertex, parent):\n",
        "    # mark and continue\n",
        "    visited.add(currentVertex)\n",
        "\n",
        "      # Recur for all the vertices adjacent to current_vertex\n",
        "    for v in graph[currentVertex]:\n",
        "      # If the vertex is not visited then recurse on it\n",
        "      if v not in visited:\n",
        "        if isCyclicRecursion(v,currentVertex):\n",
        "          return True\n",
        "      elif  v!=parent:\n",
        "        # found cycle\n",
        "        return True\n",
        "\n",
        "  # call recur for all vertices\n",
        "  for u in range(len(graph)):\n",
        "     # Don't recur for u if it is already visited\n",
        "     if u not in visited:\n",
        "       if isCyclicRecursion(u,-1):\n",
        "         return True\n",
        "\n",
        "  return False"
      ],
      "execution_count": null,
      "outputs": []
    }
  ]
}