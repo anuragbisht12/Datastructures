{
  "nbformat": 4,
  "nbformat_minor": 0,
  "metadata": {
    "colab": {
      "name": "ValidateBST.ipynb",
      "provenance": [],
      "collapsed_sections": []
    },
    "kernelspec": {
      "name": "python3",
      "display_name": "Python 3"
    }
  },
  "cells": [
    {
      "cell_type": "code",
      "metadata": {
        "id": "9_wsX06Ijn5G",
        "colab_type": "code",
        "colab": {}
      },
      "source": [
        "# This is an input class. Do not edit.\n",
        "class BST:\n",
        "    def __init__(self, value):\n",
        "        self.value = value\n",
        "        self.left = None\n",
        "        self.right = None\n",
        "\n",
        "#O(n) time | O(d) space\n",
        "def validateBst(tree):\n",
        "    return validateBstHelper(tree,float('-inf'),float('inf'))\n",
        "\n",
        "def validateBstHelper(tree,minValue,maxValue):\n",
        "\tif tree is None:\n",
        "\t\treturn True\n",
        "\tif tree.value <minValue or tree.value>=maxValue:\n",
        "\t\treturn False\n",
        "\tleftIsValid = validateBstHelper(tree.left,minValue,tree.value)\n",
        "\treturn leftIsValid and validateBstHelper(tree.right,tree.value,maxValue)"
      ],
      "execution_count": 0,
      "outputs": []
    }
  ]
}